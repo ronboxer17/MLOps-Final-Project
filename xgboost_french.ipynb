{
 "cells": [
  {
   "cell_type": "code",
   "execution_count": 24,
   "metadata": {
    "collapsed": true,
    "pycharm": {
     "name": "#%%\n"
    }
   },
   "outputs": [],
   "source": [
    "import pandas as pd\n",
    "import numpy as np\n",
    "from xgboost import XGBClassifier, XGBRegressor\n",
    "from sklearn.model_selection import train_test_split\n",
    "from sklearn.metrics import mean_squared_error\n",
    "from sklearn.pipeline import Pipeline\n",
    "from sklearn.preprocessing import StandardScaler, OneHotEncoder"
   ]
  },
  {
   "cell_type": "code",
   "execution_count": 25,
   "outputs": [],
   "source": [
    "# column_names = ['IDpol','ClaimNb','Exposure','Area','VehPower','VehAge','DrivAge','BonusMalus','VehBrand','VehGas','Density','Region']\n",
    "path = r'data/freMTPL2freq.csv'\n",
    "df = pd.read_csv(path)"
   ],
   "metadata": {
    "collapsed": false,
    "pycharm": {
     "name": "#%%\n"
    }
   }
  },
  {
   "cell_type": "code",
   "execution_count": 26,
   "outputs": [
    {
     "data": {
      "text/plain": "            IDpol  ClaimNb  Exposure Area  VehPower  VehAge  DrivAge  \\\n0             1.0        1   0.10000    D         5       0       55   \n1             3.0        1   0.77000    D         5       0       55   \n2             5.0        1   0.75000    B         6       2       52   \n3            10.0        1   0.09000    B         7       0       46   \n4            11.0        1   0.84000    B         7       0       46   \n...           ...      ...       ...  ...       ...     ...      ...   \n678008  6114326.0        0   0.00274    E         4       0       54   \n678009  6114327.0        0   0.00274    E         4       0       41   \n678010  6114328.0        0   0.00274    D         6       2       45   \n678011  6114329.0        0   0.00274    B         4       0       60   \n678012  6114330.0        0   0.00274    B         7       6       29   \n\n        BonusMalus VehBrand   VehGas  Density Region  \n0               50      B12  Regular     1217    R82  \n1               50      B12  Regular     1217    R82  \n2               50      B12   Diesel       54    R22  \n3               50      B12   Diesel       76    R72  \n4               50      B12   Diesel       76    R72  \n...            ...      ...      ...      ...    ...  \n678008          50      B12  Regular     3317    R93  \n678009          95      B12  Regular     9850    R11  \n678010          50      B12   Diesel     1323    R82  \n678011          50      B12  Regular       95    R26  \n678012          54      B12   Diesel       65    R72  \n\n[678013 rows x 12 columns]",
      "text/html": "<div>\n<style scoped>\n    .dataframe tbody tr th:only-of-type {\n        vertical-align: middle;\n    }\n\n    .dataframe tbody tr th {\n        vertical-align: top;\n    }\n\n    .dataframe thead th {\n        text-align: right;\n    }\n</style>\n<table border=\"1\" class=\"dataframe\">\n  <thead>\n    <tr style=\"text-align: right;\">\n      <th></th>\n      <th>IDpol</th>\n      <th>ClaimNb</th>\n      <th>Exposure</th>\n      <th>Area</th>\n      <th>VehPower</th>\n      <th>VehAge</th>\n      <th>DrivAge</th>\n      <th>BonusMalus</th>\n      <th>VehBrand</th>\n      <th>VehGas</th>\n      <th>Density</th>\n      <th>Region</th>\n    </tr>\n  </thead>\n  <tbody>\n    <tr>\n      <th>0</th>\n      <td>1.0</td>\n      <td>1</td>\n      <td>0.10000</td>\n      <td>D</td>\n      <td>5</td>\n      <td>0</td>\n      <td>55</td>\n      <td>50</td>\n      <td>B12</td>\n      <td>Regular</td>\n      <td>1217</td>\n      <td>R82</td>\n    </tr>\n    <tr>\n      <th>1</th>\n      <td>3.0</td>\n      <td>1</td>\n      <td>0.77000</td>\n      <td>D</td>\n      <td>5</td>\n      <td>0</td>\n      <td>55</td>\n      <td>50</td>\n      <td>B12</td>\n      <td>Regular</td>\n      <td>1217</td>\n      <td>R82</td>\n    </tr>\n    <tr>\n      <th>2</th>\n      <td>5.0</td>\n      <td>1</td>\n      <td>0.75000</td>\n      <td>B</td>\n      <td>6</td>\n      <td>2</td>\n      <td>52</td>\n      <td>50</td>\n      <td>B12</td>\n      <td>Diesel</td>\n      <td>54</td>\n      <td>R22</td>\n    </tr>\n    <tr>\n      <th>3</th>\n      <td>10.0</td>\n      <td>1</td>\n      <td>0.09000</td>\n      <td>B</td>\n      <td>7</td>\n      <td>0</td>\n      <td>46</td>\n      <td>50</td>\n      <td>B12</td>\n      <td>Diesel</td>\n      <td>76</td>\n      <td>R72</td>\n    </tr>\n    <tr>\n      <th>4</th>\n      <td>11.0</td>\n      <td>1</td>\n      <td>0.84000</td>\n      <td>B</td>\n      <td>7</td>\n      <td>0</td>\n      <td>46</td>\n      <td>50</td>\n      <td>B12</td>\n      <td>Diesel</td>\n      <td>76</td>\n      <td>R72</td>\n    </tr>\n    <tr>\n      <th>...</th>\n      <td>...</td>\n      <td>...</td>\n      <td>...</td>\n      <td>...</td>\n      <td>...</td>\n      <td>...</td>\n      <td>...</td>\n      <td>...</td>\n      <td>...</td>\n      <td>...</td>\n      <td>...</td>\n      <td>...</td>\n    </tr>\n    <tr>\n      <th>678008</th>\n      <td>6114326.0</td>\n      <td>0</td>\n      <td>0.00274</td>\n      <td>E</td>\n      <td>4</td>\n      <td>0</td>\n      <td>54</td>\n      <td>50</td>\n      <td>B12</td>\n      <td>Regular</td>\n      <td>3317</td>\n      <td>R93</td>\n    </tr>\n    <tr>\n      <th>678009</th>\n      <td>6114327.0</td>\n      <td>0</td>\n      <td>0.00274</td>\n      <td>E</td>\n      <td>4</td>\n      <td>0</td>\n      <td>41</td>\n      <td>95</td>\n      <td>B12</td>\n      <td>Regular</td>\n      <td>9850</td>\n      <td>R11</td>\n    </tr>\n    <tr>\n      <th>678010</th>\n      <td>6114328.0</td>\n      <td>0</td>\n      <td>0.00274</td>\n      <td>D</td>\n      <td>6</td>\n      <td>2</td>\n      <td>45</td>\n      <td>50</td>\n      <td>B12</td>\n      <td>Diesel</td>\n      <td>1323</td>\n      <td>R82</td>\n    </tr>\n    <tr>\n      <th>678011</th>\n      <td>6114329.0</td>\n      <td>0</td>\n      <td>0.00274</td>\n      <td>B</td>\n      <td>4</td>\n      <td>0</td>\n      <td>60</td>\n      <td>50</td>\n      <td>B12</td>\n      <td>Regular</td>\n      <td>95</td>\n      <td>R26</td>\n    </tr>\n    <tr>\n      <th>678012</th>\n      <td>6114330.0</td>\n      <td>0</td>\n      <td>0.00274</td>\n      <td>B</td>\n      <td>7</td>\n      <td>6</td>\n      <td>29</td>\n      <td>54</td>\n      <td>B12</td>\n      <td>Diesel</td>\n      <td>65</td>\n      <td>R72</td>\n    </tr>\n  </tbody>\n</table>\n<p>678013 rows × 12 columns</p>\n</div>"
     },
     "execution_count": 26,
     "metadata": {},
     "output_type": "execute_result"
    }
   ],
   "source": [
    "df"
   ],
   "metadata": {
    "collapsed": false,
    "pycharm": {
     "name": "#%%\n"
    }
   }
  },
  {
   "cell_type": "code",
   "execution_count": 19,
   "outputs": [],
   "source": [
    "target = df['ClaimNb']\n",
    "data = df[[c for c in df.columns if c!='ClaimNb']]"
   ],
   "metadata": {
    "collapsed": false,
    "pycharm": {
     "name": "#%%\n"
    }
   }
  },
  {
   "cell_type": "code",
   "execution_count": 66,
   "outputs": [
    {
     "name": "stderr",
     "output_type": "stream",
     "text": [
      "C:\\Users\\ronbo\\AppData\\Local\\Temp\\ipykernel_22200\\4174482233.py:1: SettingWithCopyWarning: \n",
      "A value is trying to be set on a copy of a slice from a DataFrame.\n",
      "Try using .loc[row_indexer,col_indexer] = value instead\n",
      "\n",
      "See the caveats in the documentation: https://pandas.pydata.org/pandas-docs/stable/user_guide/indexing.html#returning-a-view-versus-a-copy\n",
      "  data['Area'] = data['Area'].astype(\"category\")\n",
      "C:\\Users\\ronbo\\AppData\\Local\\Temp\\ipykernel_22200\\4174482233.py:2: SettingWithCopyWarning: \n",
      "A value is trying to be set on a copy of a slice from a DataFrame.\n",
      "Try using .loc[row_indexer,col_indexer] = value instead\n",
      "\n",
      "See the caveats in the documentation: https://pandas.pydata.org/pandas-docs/stable/user_guide/indexing.html#returning-a-view-versus-a-copy\n",
      "  data['VehBrand'] = data['VehBrand'].astype(\"category\")\n",
      "C:\\Users\\ronbo\\AppData\\Local\\Temp\\ipykernel_22200\\4174482233.py:3: SettingWithCopyWarning: \n",
      "A value is trying to be set on a copy of a slice from a DataFrame.\n",
      "Try using .loc[row_indexer,col_indexer] = value instead\n",
      "\n",
      "See the caveats in the documentation: https://pandas.pydata.org/pandas-docs/stable/user_guide/indexing.html#returning-a-view-versus-a-copy\n",
      "  data['VehGas'] = data['VehGas'].astype(\"category\")\n",
      "C:\\Users\\ronbo\\AppData\\Local\\Temp\\ipykernel_22200\\4174482233.py:4: SettingWithCopyWarning: \n",
      "A value is trying to be set on a copy of a slice from a DataFrame.\n",
      "Try using .loc[row_indexer,col_indexer] = value instead\n",
      "\n",
      "See the caveats in the documentation: https://pandas.pydata.org/pandas-docs/stable/user_guide/indexing.html#returning-a-view-versus-a-copy\n",
      "  data['Region'] = data['Region'].astype(\"category\")\n"
     ]
    }
   ],
   "source": [
    "data['Area'] = data['Area'].astype(\"category\")\n",
    "data['VehBrand'] = data['VehBrand'].astype(\"category\")\n",
    "data['VehGas'] = data['VehGas'].astype(\"category\")\n",
    "data['Region'] = data['Region'].astype(\"category\")"
   ],
   "metadata": {
    "collapsed": false,
    "pycharm": {
     "name": "#%%\n"
    }
   }
  },
  {
   "cell_type": "code",
   "execution_count": 67,
   "outputs": [
    {
     "data": {
      "text/plain": "IDpol          float64\nExposure       float64\nArea          category\nVehPower         int64\nVehAge           int64\nDrivAge          int64\nBonusMalus       int64\nVehBrand      category\nVehGas        category\nDensity          int64\nRegion        category\ndtype: object"
     },
     "execution_count": 67,
     "metadata": {},
     "output_type": "execute_result"
    }
   ],
   "source": [
    "data.dtypes"
   ],
   "metadata": {
    "collapsed": false,
    "pycharm": {
     "name": "#%%\n"
    }
   }
  },
  {
   "cell_type": "code",
   "execution_count": 69,
   "outputs": [
    {
     "name": "stdout",
     "output_type": "stream",
     "text": [
      "[0.04954528 0.19073108 0.00196286 ... 0.30888233 0.03573311 0.12129484]\n"
     ]
    }
   ],
   "source": [
    "X_train, X_test, y_train, y_test = train_test_split(data, target, test_size=.2)\n",
    "# create model instance\n",
    "bst = XGBRegressor(tree_method=\"gpu_hist\",enable_categorical=True)\n",
    "# fit model\n",
    "bst.fit(X_train, y_train)\n",
    "# make predictions\n",
    "preds = bst.predict(X_test)\n",
    "print(preds)"
   ],
   "metadata": {
    "collapsed": false,
    "pycharm": {
     "name": "#%%\n"
    }
   }
  },
  {
   "cell_type": "code",
   "execution_count": 71,
   "outputs": [
    {
     "name": "stdout",
     "output_type": "stream",
     "text": [
      "RMSE: 0.21\n"
     ]
    }
   ],
   "source": [
    "# Evaluate the model\n",
    "mse = mean_squared_error(y_test, preds)\n",
    "rmse = np.sqrt(mse)\n",
    "print(f'RMSE: {rmse:.2f}')"
   ],
   "metadata": {
    "collapsed": false,
    "pycharm": {
     "name": "#%%\n"
    }
   }
  }
 ],
 "metadata": {
  "kernelspec": {
   "display_name": "Python 3",
   "language": "python",
   "name": "python3"
  },
  "language_info": {
   "codemirror_mode": {
    "name": "ipython",
    "version": 2
   },
   "file_extension": ".py",
   "mimetype": "text/x-python",
   "name": "python",
   "nbconvert_exporter": "python",
   "pygments_lexer": "ipython2",
   "version": "2.7.6"
  }
 },
 "nbformat": 4,
 "nbformat_minor": 0
}